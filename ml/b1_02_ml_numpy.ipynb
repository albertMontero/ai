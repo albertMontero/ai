{
 "cells": [
  {
   "cell_type": "markdown",
   "metadata": {},
   "source": [
    "# Introduction to NumPy\n",
    "\n",
    "NumPy (Numerical Python) is a powerful Python library for numerical computing. It provides:\n",
    "- Multidimensional arrays (ndarrays)\n",
    "- Mathematical functions to operate on arrays\n",
    "- Tools for linear algebra, Fourier transforms, and random number generation\n",
    "\n",
    "Resources:\n",
    "\n",
    "- https://numpy.org/doc/stable/user/quickstart.html\n",
    "- https://numpy.org/doc/stable/user/absolute_beginners.html"
   ],
   "id": "b2413d753bf1f5fc"
  },
  {
   "cell_type": "code",
   "metadata": {
    "ExecuteTime": {
     "end_time": "2025-09-30T04:31:54.045066Z",
     "start_time": "2025-09-30T04:31:54.041429Z"
    }
   },
   "source": [
    "# Importing numpy\n",
    "import numpy as np\n",
    "\n",
    "print(\"NumPy version:\", np.__version__)"
   ],
   "id": "6c8240e2d6500e87",
   "outputs": [
    {
     "name": "stdout",
     "output_type": "stream",
     "text": [
      "NumPy version: 2.2.6\n"
     ]
    }
   ],
   "execution_count": 1
  },
  {
   "cell_type": "markdown",
   "metadata": {},
   "source": [
    "## Creating Arrays\n",
    "\n",
    "We can create arrays from Python lists or using built-in NumPy functions."
   ],
   "id": "4d2845eb9ae1fb0e"
  },
  {
   "cell_type": "code",
   "metadata": {
    "ExecuteTime": {
     "end_time": "2025-09-30T04:31:54.064835Z",
     "start_time": "2025-09-30T04:31:54.060487Z"
    }
   },
   "source": [
    "# Creating a NumPy array from a Python list\n",
    "arr1 = np.array([1, 2, 3, 4, 5])\n",
    "print(\"Array:\", arr1)\n",
    "print(\"Type:\", type(arr1))\n",
    "print(\"Shape:\", arr1.shape)"
   ],
   "id": "29159f697870778e",
   "outputs": [
    {
     "name": "stdout",
     "output_type": "stream",
     "text": [
      "Array: [1 2 3 4 5]\n",
      "Type: <class 'numpy.ndarray'>\n",
      "Shape: (5,)\n"
     ]
    }
   ],
   "execution_count": 2
  },
  {
   "cell_type": "code",
   "metadata": {
    "ExecuteTime": {
     "end_time": "2025-09-30T04:31:54.117292Z",
     "start_time": "2025-09-30T04:31:54.111489Z"
    }
   },
   "source": [
    "# Creating arrays with built-in functions\n",
    "zeros = np.zeros((2, 3))\n",
    "ones = np.ones((3, 3))\n",
    "arange_arr = np.arange(0, 10, 2)\n",
    "linspace_arr = np.linspace(0, 1, 5)\n",
    "\n",
    "print(\"Zeros:\\n\", zeros)\n",
    "print(\"Ones:\\n\", ones)\n",
    "print(\"Arange:\\n\", arange_arr)\n",
    "print(\"Linspace:\\n\", linspace_arr)"
   ],
   "id": "2af2ec2e1ec1a76a",
   "outputs": [
    {
     "name": "stdout",
     "output_type": "stream",
     "text": [
      "Zeros:\n",
      " [[0. 0. 0.]\n",
      " [0. 0. 0.]]\n",
      "Ones:\n",
      " [[1. 1. 1.]\n",
      " [1. 1. 1.]\n",
      " [1. 1. 1.]]\n",
      "Arange:\n",
      " [0 2 4 6 8]\n",
      "Linspace:\n",
      " [0.   0.25 0.5  0.75 1.  ]\n"
     ]
    }
   ],
   "execution_count": 3
  },
  {
   "cell_type": "markdown",
   "metadata": {},
   "source": [
    "## Array Operations\n",
    "\n",
    "NumPy allows element-wise operations and broadcasting."
   ],
   "id": "d801ab671133ba45"
  },
  {
   "cell_type": "code",
   "metadata": {
    "ExecuteTime": {
     "end_time": "2025-09-30T04:31:54.166695Z",
     "start_time": "2025-09-30T04:31:54.162077Z"
    }
   },
   "source": [
    "a = np.array([1, 2, 3])\n",
    "b = np.array([4, 5, 6])\n",
    "\n",
    "print(\"Addition:\", a + b)\n",
    "print(\"Multiplication:\", a * b)\n",
    "print(\"Scalar multiplication:\", a * 2)\n",
    "print(\"Dot product:\", np.dot(a, b))"
   ],
   "id": "4c548e31e73776c5",
   "outputs": [
    {
     "name": "stdout",
     "output_type": "stream",
     "text": [
      "Addition: [5 7 9]\n",
      "Multiplication: [ 4 10 18]\n",
      "Scalar multiplication: [2 4 6]\n",
      "Dot product: 32\n"
     ]
    }
   ],
   "execution_count": 4
  },
  {
   "cell_type": "markdown",
   "metadata": {},
   "source": [
    "## Indexing and Slicing\n",
    "\n",
    "We can access elements and slices of arrays, similar to Python lists."
   ],
   "id": "ea33315320f042e5"
  },
  {
   "cell_type": "code",
   "metadata": {
    "ExecuteTime": {
     "end_time": "2025-09-30T04:31:54.226194Z",
     "start_time": "2025-09-30T04:31:54.217096Z"
    }
   },
   "source": [
    "arr = np.arange(10)\n",
    "print(\"Array:\", arr)\n",
    "print(\"First element:\", arr[0])\n",
    "print(\"Last element:\", arr[-1])\n",
    "print(\"Slice [2:7]:\", arr[2:7])\n",
    "print(\"Step slice [::2]:\", arr[::2])"
   ],
   "id": "94f1cf733655b65a",
   "outputs": [
    {
     "name": "stdout",
     "output_type": "stream",
     "text": [
      "Array: [0 1 2 3 4 5 6 7 8 9]\n",
      "First element: 0\n",
      "Last element: 9\n",
      "Slice [2:7]: [2 3 4 5 6]\n",
      "Step slice [::2]: [0 2 4 6 8]\n"
     ]
    }
   ],
   "execution_count": 5
  },
  {
   "cell_type": "markdown",
   "metadata": {},
   "source": [
    "## Reshaping Arrays\n",
    "\n",
    "NumPy allows reshaping arrays without copying data."
   ],
   "id": "d3b346022c20918c"
  },
  {
   "cell_type": "code",
   "metadata": {
    "ExecuteTime": {
     "end_time": "2025-09-30T04:31:54.273077Z",
     "start_time": "2025-09-30T04:31:54.269145Z"
    }
   },
   "source": [
    "matrix = np.arange(1, 13)\n",
    "reshaped = matrix.reshape((3, 4))\n",
    "print(\"Original:\", matrix)\n",
    "print(\"Reshaped:\\n\", reshaped)"
   ],
   "id": "d505080ee4d25494",
   "outputs": [
    {
     "name": "stdout",
     "output_type": "stream",
     "text": [
      "Original: [ 1  2  3  4  5  6  7  8  9 10 11 12]\n",
      "Reshaped:\n",
      " [[ 1  2  3  4]\n",
      " [ 5  6  7  8]\n",
      " [ 9 10 11 12]]\n"
     ]
    }
   ],
   "execution_count": 6
  },
  {
   "cell_type": "markdown",
   "metadata": {},
   "source": [
    "## Useful Functions\n",
    "\n",
    "Some common mathematical functions:"
   ],
   "id": "83f7c07c807b58e4"
  },
  {
   "cell_type": "code",
   "metadata": {
    "ExecuteTime": {
     "end_time": "2025-09-30T04:31:54.323002Z",
     "start_time": "2025-09-30T04:31:54.318296Z"
    }
   },
   "source": [
    "arr = np.array([1, 2, 3, 4, 5])\n",
    "print(\"Sum:\", np.sum(arr))\n",
    "print(\"Mean:\", np.mean(arr))\n",
    "print(\"Standard deviation:\", np.std(arr))\n",
    "print(\"Max:\", np.max(arr))\n",
    "print(\"Min:\", np.min(arr))"
   ],
   "id": "60df7ba52cb33d97",
   "outputs": [
    {
     "name": "stdout",
     "output_type": "stream",
     "text": [
      "Sum: 15\n",
      "Mean: 3.0\n",
      "Standard deviation: 1.4142135623730951\n",
      "Max: 5\n",
      "Min: 1\n"
     ]
    }
   ],
   "execution_count": 7
  },
  {
   "cell_type": "markdown",
   "metadata": {},
   "source": [
    "## Random Numbers\n",
    "\n",
    "NumPy provides functionality for generating random numbers."
   ],
   "id": "af9c2d6e94c93895"
  },
  {
   "cell_type": "code",
   "metadata": {
    "ExecuteTime": {
     "end_time": "2025-09-30T04:31:54.372567Z",
     "start_time": "2025-09-30T04:31:54.368548Z"
    }
   },
   "source": [
    "rand_arr = np.random.rand(3, 3)\n",
    "rand_ints = np.random.randint(0, 10, (3, 3))\n",
    "\n",
    "print(\"Random floats:\\n\", rand_arr)\n",
    "print(\"Random integers:\\n\", rand_ints)"
   ],
   "id": "349b09631db50156",
   "outputs": [
    {
     "name": "stdout",
     "output_type": "stream",
     "text": [
      "Random floats:\n",
      " [[0.52921123 0.98176815 0.94562919]\n",
      " [0.20991028 0.12195987 0.13613847]\n",
      " [0.81434196 0.33440791 0.99887439]]\n",
      "Random integers:\n",
      " [[4 6 3]\n",
      " [8 6 5]\n",
      " [5 6 8]]\n"
     ]
    }
   ],
   "execution_count": 8
  }
 ],
 "metadata": {
  "kernelspec": {
   "display_name": "Python 3",
   "language": "python",
   "name": "python3"
  },
  "language_info": {
   "name": "python",
   "version": "3.x"
  }
 },
 "nbformat": 4,
 "nbformat_minor": 5
}
