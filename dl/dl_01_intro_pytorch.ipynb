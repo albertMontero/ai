{
 "cells": [
  {
   "metadata": {},
   "cell_type": "markdown",
   "source": [
    "# Intro to PyTorch and neural networks\n",
    "\n",
    "- https://docs.pytorch.org/tutorials/beginner/basics/quickstart_tutorial.html\n",
    "- https://docs.pytorch.org/tutorials/beginner/basics/data_tutorial.html\n",
    "\n",
    "<style>\n",
    "img {\n",
    "    display: block;\n",
    "    margin-left: auto;\n",
    "    margin-right: auto;\n",
    "    padding: 5px;\n",
    "}\n",
    "\n",
    "figcaption {\n",
    "  font-style: italic;\n",
    "  padding: 2px;\n",
    "  text-align: center;\n",
    "}\n",
    "\n",
    "</style>"
   ],
   "id": "d1e1d63c139af5bf"
  },
  {
   "cell_type": "code",
   "id": "initial_id",
   "metadata": {
    "collapsed": true,
    "ExecuteTime": {
     "end_time": "2025-10-07T13:27:29.252485Z",
     "start_time": "2025-10-07T13:27:25.124487Z"
    }
   },
   "source": [
    "import torch\n",
    "from torch import nn\n",
    "from torch.utils.data import DataLoader\n",
    "from torchvision import datasets\n",
    "from torchvision.transforms import ToTensor"
   ],
   "outputs": [],
   "execution_count": 2
  },
  {
   "metadata": {
    "ExecuteTime": {
     "end_time": "2025-10-07T13:27:35.252291Z",
     "start_time": "2025-10-07T13:27:35.228654Z"
    }
   },
   "cell_type": "code",
   "source": [
    "print(torch.__version__)\n",
    "torch.cuda.is_available()"
   ],
   "id": "a4336358909784c2",
   "outputs": [
    {
     "name": "stdout",
     "output_type": "stream",
     "text": [
      "2.8.0+cu126\n"
     ]
    },
    {
     "data": {
      "text/plain": [
       "True"
      ]
     },
     "execution_count": 3,
     "metadata": {},
     "output_type": "execute_result"
    }
   ],
   "execution_count": 3
  },
  {
   "metadata": {
    "ExecuteTime": {
     "end_time": "2025-10-07T13:27:24.666375Z",
     "start_time": "2025-10-07T13:27:24.479162Z"
    }
   },
   "cell_type": "code",
   "source": "# !nvidia-smi",
   "id": "ea0a97df024a5f9b",
   "outputs": [
    {
     "name": "stdout",
     "output_type": "stream",
     "text": [
      "Tue Oct  7 15:27:24 2025       \r\n",
      "+---------------------------------------------------------------------------------------+\r\n",
      "| NVIDIA-SMI 535.247.01             Driver Version: 535.247.01   CUDA Version: 12.2     |\r\n",
      "|-----------------------------------------+----------------------+----------------------+\r\n",
      "| GPU  Name                 Persistence-M | Bus-Id        Disp.A | Volatile Uncorr. ECC |\r\n",
      "| Fan  Temp   Perf          Pwr:Usage/Cap |         Memory-Usage | GPU-Util  Compute M. |\r\n",
      "|                                         |                      |               MIG M. |\r\n",
      "|=========================================+======================+======================|\r\n",
      "|   0  NVIDIA GeForce GTX 1060        Off | 00000000:01:00.0  On |                  N/A |\r\n",
      "| N/A   68C    P0              27W /  78W |    433MiB /  6144MiB |      4%      Default |\r\n",
      "|                                         |                      |                  N/A |\r\n",
      "+-----------------------------------------+----------------------+----------------------+\r\n",
      "                                                                                         \r\n",
      "+---------------------------------------------------------------------------------------+\r\n",
      "| Processes:                                                                            |\r\n",
      "|  GPU   GI   CI        PID   Type   Process name                            GPU Memory |\r\n",
      "|        ID   ID                                                             Usage      |\r\n",
      "|=======================================================================================|\r\n",
      "|    0   N/A  N/A      2303      G   /usr/lib/xorg/Xorg                          137MiB |\r\n",
      "|    0   N/A  N/A      2529      G   /usr/bin/gnome-shell                         65MiB |\r\n",
      "|    0   N/A  N/A      3691      G   ...irefox/6966/usr/lib/firefox/firefox      158MiB |\r\n",
      "|    0   N/A  N/A      5535      G   ...erProcess --variations-seed-version       66MiB |\r\n",
      "+---------------------------------------------------------------------------------------+\r\n"
     ]
    }
   ],
   "execution_count": 1
  },
  {
   "metadata": {},
   "cell_type": "markdown",
   "source": [
    "## Intro\n",
    "\n",
    "### A new programming paradign\n",
    "\n",
    " <figure>\n",
    "  <img src=\"img/new_par.png\" alt=\"Software 2.0\" width=\"50%\">\n",
    "  <figcaption>A new programming paradign. Software 2.0 (Andrej Karpathy)</figcaption>\n",
    "</figure>\n"
   ],
   "id": "f8ebac9c1cacd98d"
  },
  {
   "metadata": {},
   "cell_type": "markdown",
   "source": [
    "### Example: Image classification\n",
    "\n",
    " <figure>\n",
    "  <img src=\"img/vanilla2.png\" alt=\"Image classification\" width=\"50%\">\n",
    "  <figcaption>Image classification</figcaption>\n",
    "</figure>\n"
   ],
   "id": "de805d9f80d5a2e5"
  },
  {
   "metadata": {},
   "cell_type": "markdown",
   "source": [
    "### Supervised learning\n",
    "\n",
    " <figure>\n",
    "  <img src=\"img/supervised.png\" alt=\"Supervised learning\" width=\"50%\">\n",
    "  <figcaption>Supervised learning</figcaption>\n",
    "</figure>"
   ],
   "id": "96521c18536bae37"
  },
  {
   "metadata": {},
   "cell_type": "markdown",
   "source": [
    "## Workflow\n",
    "\n",
    " <figure>\n",
    "  <img src=\"img/dl_workflow.png\" alt=\"workflow\" width=\"60%\">\n",
    "  <figcaption>PyTorch Workflow</figcaption>\n",
    "</figure>"
   ],
   "id": "28a6499a36c2e20d"
  },
  {
   "metadata": {},
   "cell_type": "markdown",
   "source": [
    "## Datasets\n",
    "\n",
    "Dataset stores the samples and their corresponding labels.\n",
    "Torchvision provides many built-in datasets in the torchvision.datasets module, as well as utility classes for building your own datasets.\n",
    "https://docs.pytorch.org/vision/main/datasets.html"
   ],
   "id": "b8ae26818eba45b3"
  },
  {
   "metadata": {
    "ExecuteTime": {
     "end_time": "2025-10-07T13:54:49.666594Z",
     "start_time": "2025-10-07T13:54:49.555718Z"
    }
   },
   "cell_type": "code",
   "source": [
    "# Download training data from open datasets.\n",
    "train_ds = datasets.FashionMNIST(\n",
    "    root=\"data\",\n",
    "    train=True,\n",
    "    download=True,\n",
    "    transform=ToTensor(),\n",
    ")\n",
    "\n",
    "# Download test data from open datasets.\n",
    "val_ds = datasets.FashionMNIST(\n",
    "    root=\"data\",\n",
    "    train=False,\n",
    "    download=True,\n",
    "    transform=ToTensor(),\n",
    ")\n",
    "\n",
    "# ToTensor(): convert numpy to Pytorch Tensor and scales to [0,1]"
   ],
   "id": "a323a9cf78c078c6",
   "outputs": [],
   "execution_count": 4
  },
  {
   "metadata": {
    "ExecuteTime": {
     "end_time": "2025-10-07T08:46:50.088375Z",
     "start_time": "2025-10-07T08:46:50.070634Z"
    }
   },
   "cell_type": "code",
   "source": [
    "# dummy = datasets.FashionMNIST(\n",
    "#     root=\"data\",\n",
    "#     train=False,\n",
    "#     download=False,\n",
    "# )\n",
    "#\n",
    "# print(dummy[0])\n",
    "# dummy[0][0]\n"
   ],
   "id": "660a01d0afb96547",
   "outputs": [
    {
     "name": "stdout",
     "output_type": "stream",
     "text": [
      "(<PIL.Image.Image image mode=L size=28x28 at 0x771F34073970>, 9)\n"
     ]
    },
    {
     "data": {
      "text/plain": [
       "<PIL.Image.Image image mode=L size=28x28>"
      ],
      "image/png": "[encoded data removed]",
      "image/jpeg": "[encoded data removed]"
     },
     "execution_count": 40,
     "metadata": {},
     "output_type": "execute_result"
    }
   ],
   "execution_count": 40
  },
  {
   "metadata": {
    "ExecuteTime": {
     "end_time": "2025-10-07T08:38:58.580461Z",
     "start_time": "2025-10-07T08:38:58.575228Z"
    }
   },
   "cell_type": "code",
   "source": "train_ds.data.shape, val_ds.data.shape",
   "id": "8c3f86422a8cb468",
   "outputs": [
    {
     "data": {
      "text/plain": [
       "(torch.Size([60000, 28, 28]), torch.Size([10000, 28, 28]))"
      ]
     },
     "execution_count": 38,
     "metadata": {},
     "output_type": "execute_result"
    }
   ],
   "execution_count": 38
  },
  {
   "metadata": {
    "ExecuteTime": {
     "end_time": "2025-10-07T07:11:59.864871Z",
     "start_time": "2025-10-07T07:11:59.857756Z"
    }
   },
   "cell_type": "code",
   "source": "type(train_ds[0]), len(train_ds[0])",
   "id": "79c229483d5805cd",
   "outputs": [
    {
     "data": {
      "text/plain": [
       "(tuple, 2)"
      ]
     },
     "execution_count": 6,
     "metadata": {},
     "output_type": "execute_result"
    }
   ],
   "execution_count": 6
  },
  {
   "metadata": {
    "ExecuteTime": {
     "end_time": "2025-10-07T07:11:59.915485Z",
     "start_time": "2025-10-07T07:11:59.912336Z"
    }
   },
   "cell_type": "code",
   "source": "first_image, first_label = train_ds[0]",
   "id": "7ef2fdff963753ad",
   "outputs": [],
   "execution_count": 7
  },
  {
   "metadata": {
    "ExecuteTime": {
     "end_time": "2025-10-07T07:11:59.968894Z",
     "start_time": "2025-10-07T07:11:59.963862Z"
    }
   },
   "cell_type": "code",
   "source": [
    "# training_data[0][0].shape, training_data[0][1]\n",
    "first_image.shape, first_label\n"
   ],
   "id": "87b313ccf220616c",
   "outputs": [
    {
     "data": {
      "text/plain": [
       "(torch.Size([1, 28, 28]), 9)"
      ]
     },
     "execution_count": 8,
     "metadata": {},
     "output_type": "execute_result"
    }
   ],
   "execution_count": 8
  },
  {
   "metadata": {
    "ExecuteTime": {
     "end_time": "2025-10-07T07:12:00.041883Z",
     "start_time": "2025-10-07T07:12:00.025253Z"
    }
   },
   "cell_type": "code",
   "source": "first_image",
   "id": "149d610f7cf6cb81",
   "outputs": [
    {
     "data": {
      "text/plain": [
       "tensor([[[0.0000, 0.0000, 0.0000, 0.0000, 0.0000, 0.0000, 0.0000, 0.0000,\n",
       "          0.0000, 0.0000, 0.0000, 0.0000, 0.0000, 0.0000, 0.0000, 0.0000,\n",
       "          0.0000, 0.0000, 0.0000, 0.0000, 0.0000, 0.0000, 0.0000, 0.0000,\n",
       "          0.0000, 0.0000, 0.0000, 0.0000],\n",
       "         [0.0000, 0.0000, 0.0000, 0.0000, 0.0000, 0.0000, 0.0000, 0.0000,\n",
       "          0.0000, 0.0000, 0.0000, 0.0000, 0.0000, 0.0000, 0.0000, 0.0000,\n",
       "          0.0000, 0.0000, 0.0000, 0.0000, 0.0000, 0.0000, 0.0000, 0.0000,\n",
       "          0.0000, 0.0000, 0.0000, 0.0000],\n",
       "         [0.0000, 0.0000, 0.0000, 0.0000, 0.0000, 0.0000, 0.0000, 0.0000,\n",
       "          0.0000, 0.0000, 0.0000, 0.0000, 0.0000, 0.0000, 0.0000, 0.0000,\n",
       "          0.0000, 0.0000, 0.0000, 0.0000, 0.0000, 0.0000, 0.0000, 0.0000,\n",
       "          0.0000, 0.0000, 0.0000, 0.0000],\n",
       "         [0.0000, 0.0000, 0.0000, 0.0000, 0.0000, 0.0000, 0.0000, 0.0000,\n",
       "          0.0000, 0.0000, 0.0000, 0.0000, 0.0039, 0.0000, 0.0000, 0.0510,\n",
       "          0.2863, 0.0000, 0.0000, 0.0039, 0.0157, 0.0000, 0.0000, 0.0000,\n",
       "          0.0000, 0.0039, 0.0039, 0.0000],\n",
       "         [0.0000, 0.0000, 0.0000, 0.0000, 0.0000, 0.0000, 0.0000, 0.0000,\n",
       "          0.0000, 0.0000, 0.0000, 0.0000, 0.0118, 0.0000, 0.1412, 0.5333,\n",
       "          0.4980, 0.2431, 0.2118, 0.0000, 0.0000, 0.0000, 0.0039, 0.0118,\n",
       "          0.0157, 0.0000, 0.0000, 0.0118],\n",
       "         [0.0000, 0.0000, 0.0000, 0.0000, 0.0000, 0.0000, 0.0000, 0.0000,\n",
       "          0.0000, 0.0000, 0.0000, 0.0000, 0.0235, 0.0000, 0.4000, 0.8000,\n",
       "          0.6902, 0.5255, 0.5647, 0.4824, 0.0902, 0.0000, 0.0000, 0.0000,\n",
       "          0.0000, 0.0471, 0.0392, 0.0000],\n",
       "         [0.0000, 0.0000, 0.0000, 0.0000, 0.0000, 0.0000, 0.0000, 0.0000,\n",
       "          0.0000, 0.0000, 0.0000, 0.0000, 0.0000, 0.0000, 0.6078, 0.9255,\n",
       "          0.8118, 0.6980, 0.4196, 0.6118, 0.6314, 0.4275, 0.2510, 0.0902,\n",
       "          0.3020, 0.5098, 0.2824, 0.0588],\n",
       "         [0.0000, 0.0000, 0.0000, 0.0000, 0.0000, 0.0000, 0.0000, 0.0000,\n",
       "          0.0000, 0.0000, 0.0000, 0.0039, 0.0000, 0.2706, 0.8118, 0.8745,\n",
       "          0.8549, 0.8471, 0.8471, 0.6392, 0.4980, 0.4745, 0.4784, 0.5725,\n",
       "          0.5529, 0.3451, 0.6745, 0.2588],\n",
       "         [0.0000, 0.0000, 0.0000, 0.0000, 0.0000, 0.0000, 0.0000, 0.0000,\n",
       "          0.0000, 0.0039, 0.0039, 0.0039, 0.0000, 0.7843, 0.9098, 0.9098,\n",
       "          0.9137, 0.8980, 0.8745, 0.8745, 0.8431, 0.8353, 0.6431, 0.4980,\n",
       "          0.4824, 0.7686, 0.8980, 0.0000],\n",
       "         [0.0000, 0.0000, 0.0000, 0.0000, 0.0000, 0.0000, 0.0000, 0.0000,\n",
       "          0.0000, 0.0000, 0.0000, 0.0000, 0.0000, 0.7176, 0.8824, 0.8471,\n",
       "          0.8745, 0.8941, 0.9216, 0.8902, 0.8784, 0.8706, 0.8784, 0.8667,\n",
       "          0.8745, 0.9608, 0.6784, 0.0000],\n",
       "         [0.0000, 0.0000, 0.0000, 0.0000, 0.0000, 0.0000, 0.0000, 0.0000,\n",
       "          0.0000, 0.0000, 0.0000, 0.0000, 0.0000, 0.7569, 0.8941, 0.8549,\n",
       "          0.8353, 0.7765, 0.7059, 0.8314, 0.8235, 0.8275, 0.8353, 0.8745,\n",
       "          0.8627, 0.9529, 0.7922, 0.0000],\n",
       "         [0.0000, 0.0000, 0.0000, 0.0000, 0.0000, 0.0000, 0.0000, 0.0000,\n",
       "          0.0000, 0.0039, 0.0118, 0.0000, 0.0471, 0.8588, 0.8627, 0.8314,\n",
       "          0.8549, 0.7529, 0.6627, 0.8902, 0.8157, 0.8549, 0.8784, 0.8314,\n",
       "          0.8863, 0.7725, 0.8196, 0.2039],\n",
       "         [0.0000, 0.0000, 0.0000, 0.0000, 0.0000, 0.0000, 0.0000, 0.0000,\n",
       "          0.0000, 0.0000, 0.0235, 0.0000, 0.3882, 0.9569, 0.8706, 0.8627,\n",
       "          0.8549, 0.7961, 0.7765, 0.8667, 0.8431, 0.8353, 0.8706, 0.8627,\n",
       "          0.9608, 0.4667, 0.6549, 0.2196],\n",
       "         [0.0000, 0.0000, 0.0000, 0.0000, 0.0000, 0.0000, 0.0000, 0.0000,\n",
       "          0.0000, 0.0157, 0.0000, 0.0000, 0.2157, 0.9255, 0.8941, 0.9020,\n",
       "          0.8941, 0.9412, 0.9098, 0.8353, 0.8549, 0.8745, 0.9176, 0.8510,\n",
       "          0.8510, 0.8196, 0.3608, 0.0000],\n",
       "         [0.0000, 0.0000, 0.0039, 0.0157, 0.0235, 0.0275, 0.0078, 0.0000,\n",
       "          0.0000, 0.0000, 0.0000, 0.0000, 0.9294, 0.8863, 0.8510, 0.8745,\n",
       "          0.8706, 0.8588, 0.8706, 0.8667, 0.8471, 0.8745, 0.8980, 0.8431,\n",
       "          0.8549, 1.0000, 0.3020, 0.0000],\n",
       "         [0.0000, 0.0118, 0.0000, 0.0000, 0.0000, 0.0000, 0.0000, 0.0000,\n",
       "          0.0000, 0.2431, 0.5686, 0.8000, 0.8941, 0.8118, 0.8353, 0.8667,\n",
       "          0.8549, 0.8157, 0.8275, 0.8549, 0.8784, 0.8745, 0.8588, 0.8431,\n",
       "          0.8784, 0.9569, 0.6235, 0.0000],\n",
       "         [0.0000, 0.0000, 0.0000, 0.0000, 0.0706, 0.1725, 0.3216, 0.4196,\n",
       "          0.7412, 0.8941, 0.8627, 0.8706, 0.8510, 0.8863, 0.7843, 0.8039,\n",
       "          0.8275, 0.9020, 0.8784, 0.9176, 0.6902, 0.7373, 0.9804, 0.9725,\n",
       "          0.9137, 0.9333, 0.8431, 0.0000],\n",
       "         [0.0000, 0.2235, 0.7333, 0.8157, 0.8784, 0.8667, 0.8784, 0.8157,\n",
       "          0.8000, 0.8392, 0.8157, 0.8196, 0.7843, 0.6235, 0.9608, 0.7569,\n",
       "          0.8078, 0.8745, 1.0000, 1.0000, 0.8667, 0.9176, 0.8667, 0.8275,\n",
       "          0.8627, 0.9098, 0.9647, 0.0000],\n",
       "         [0.0118, 0.7922, 0.8941, 0.8784, 0.8667, 0.8275, 0.8275, 0.8392,\n",
       "          0.8039, 0.8039, 0.8039, 0.8627, 0.9412, 0.3137, 0.5882, 1.0000,\n",
       "          0.8980, 0.8667, 0.7373, 0.6039, 0.7490, 0.8235, 0.8000, 0.8196,\n",
       "          0.8706, 0.8941, 0.8824, 0.0000],\n",
       "         [0.3843, 0.9137, 0.7765, 0.8235, 0.8706, 0.8980, 0.8980, 0.9176,\n",
       "          0.9765, 0.8627, 0.7608, 0.8431, 0.8510, 0.9451, 0.2549, 0.2863,\n",
       "          0.4157, 0.4588, 0.6588, 0.8588, 0.8667, 0.8431, 0.8510, 0.8745,\n",
       "          0.8745, 0.8784, 0.8980, 0.1137],\n",
       "         [0.2941, 0.8000, 0.8314, 0.8000, 0.7569, 0.8039, 0.8275, 0.8824,\n",
       "          0.8471, 0.7255, 0.7725, 0.8078, 0.7765, 0.8353, 0.9412, 0.7647,\n",
       "          0.8902, 0.9608, 0.9373, 0.8745, 0.8549, 0.8314, 0.8196, 0.8706,\n",
       "          0.8627, 0.8667, 0.9020, 0.2627],\n",
       "         [0.1882, 0.7961, 0.7176, 0.7608, 0.8353, 0.7725, 0.7255, 0.7451,\n",
       "          0.7608, 0.7529, 0.7922, 0.8392, 0.8588, 0.8667, 0.8627, 0.9255,\n",
       "          0.8824, 0.8471, 0.7804, 0.8078, 0.7294, 0.7098, 0.6941, 0.6745,\n",
       "          0.7098, 0.8039, 0.8078, 0.4510],\n",
       "         [0.0000, 0.4784, 0.8588, 0.7569, 0.7020, 0.6706, 0.7176, 0.7686,\n",
       "          0.8000, 0.8235, 0.8353, 0.8118, 0.8275, 0.8235, 0.7843, 0.7686,\n",
       "          0.7608, 0.7490, 0.7647, 0.7490, 0.7765, 0.7529, 0.6902, 0.6118,\n",
       "          0.6549, 0.6941, 0.8235, 0.3608],\n",
       "         [0.0000, 0.0000, 0.2902, 0.7412, 0.8314, 0.7490, 0.6863, 0.6745,\n",
       "          0.6863, 0.7098, 0.7255, 0.7373, 0.7412, 0.7373, 0.7569, 0.7765,\n",
       "          0.8000, 0.8196, 0.8235, 0.8235, 0.8275, 0.7373, 0.7373, 0.7608,\n",
       "          0.7529, 0.8471, 0.6667, 0.0000],\n",
       "         [0.0078, 0.0000, 0.0000, 0.0000, 0.2588, 0.7843, 0.8706, 0.9294,\n",
       "          0.9373, 0.9490, 0.9647, 0.9529, 0.9569, 0.8667, 0.8627, 0.7569,\n",
       "          0.7490, 0.7020, 0.7137, 0.7137, 0.7098, 0.6902, 0.6510, 0.6588,\n",
       "          0.3882, 0.2275, 0.0000, 0.0000],\n",
       "         [0.0000, 0.0000, 0.0000, 0.0000, 0.0000, 0.0000, 0.0000, 0.1569,\n",
       "          0.2392, 0.1725, 0.2824, 0.1608, 0.1373, 0.0000, 0.0000, 0.0000,\n",
       "          0.0000, 0.0000, 0.0000, 0.0000, 0.0000, 0.0000, 0.0000, 0.0000,\n",
       "          0.0000, 0.0000, 0.0000, 0.0000],\n",
       "         [0.0000, 0.0000, 0.0000, 0.0000, 0.0000, 0.0000, 0.0000, 0.0000,\n",
       "          0.0000, 0.0000, 0.0000, 0.0000, 0.0000, 0.0000, 0.0000, 0.0000,\n",
       "          0.0000, 0.0000, 0.0000, 0.0000, 0.0000, 0.0000, 0.0000, 0.0000,\n",
       "          0.0000, 0.0000, 0.0000, 0.0000],\n",
       "         [0.0000, 0.0000, 0.0000, 0.0000, 0.0000, 0.0000, 0.0000, 0.0000,\n",
       "          0.0000, 0.0000, 0.0000, 0.0000, 0.0000, 0.0000, 0.0000, 0.0000,\n",
       "          0.0000, 0.0000, 0.0000, 0.0000, 0.0000, 0.0000, 0.0000, 0.0000,\n",
       "          0.0000, 0.0000, 0.0000, 0.0000]]])"
      ]
     },
     "execution_count": 9,
     "metadata": {},
     "output_type": "execute_result"
    }
   ],
   "execution_count": 9
  },
  {
   "metadata": {
    "ExecuteTime": {
     "end_time": "2025-10-07T07:12:00.087280Z",
     "start_time": "2025-10-07T07:12:00.082142Z"
    }
   },
   "cell_type": "code",
   "source": [
    "print(f\"Min pixel value in first image: {torch.min(first_image)}\")\n",
    "print(f\"Max pixel value in first image: {torch.max(first_image)}\")"
   ],
   "id": "d6050cad6816457f",
   "outputs": [
    {
     "name": "stdout",
     "output_type": "stream",
     "text": [
      "Min pixel value in first image: 0.0\n",
      "Max pixel value in first image: 1.0\n"
     ]
    }
   ],
   "execution_count": 10
  },
  {
   "metadata": {
    "ExecuteTime": {
     "end_time": "2025-10-07T07:12:00.148677Z",
     "start_time": "2025-10-07T07:12:00.143473Z"
    }
   },
   "cell_type": "code",
   "source": "train_ds.classes",
   "id": "c37e8d1a9b2b2e33",
   "outputs": [
    {
     "data": {
      "text/plain": [
       "['T-shirt/top',\n",
       " 'Trouser',\n",
       " 'Pullover',\n",
       " 'Dress',\n",
       " 'Coat',\n",
       " 'Sandal',\n",
       " 'Shirt',\n",
       " 'Sneaker',\n",
       " 'Bag',\n",
       " 'Ankle boot']"
      ]
     },
     "execution_count": 11,
     "metadata": {},
     "output_type": "execute_result"
    }
   ],
   "execution_count": 11
  },
  {
   "metadata": {
    "ExecuteTime": {
     "end_time": "2025-10-07T07:12:00.865982Z",
     "start_time": "2025-10-07T07:12:00.204040Z"
    }
   },
   "cell_type": "code",
   "source": [
    "import matplotlib.pyplot as plt\n",
    "\n",
    "# squeeze(): removes dimensions of size 1\n",
    "# https://docs.pytorch.org/docs/stable/generated/torch.squeeze.html\n",
    "\n",
    "\"\"\"\n",
    "Deep learning libraries like PyTorch and TensorFlow typically use channels-first format (C, H, W) for image tensors, while matplotlib expects channels-last format (H, W, C). The transpose operation rearranges the dimensions to make the tensor compatible with matplotlib's expectations.\n",
    "\"\"\"\n",
    "\n",
    "plt.imshow(first_image.squeeze(), cmap=\"gray\")"
   ],
   "id": "9b8df9ef402282bd",
   "outputs": [
    {
     "data": {
      "text/plain": [
       "<matplotlib.image.AxesImage at 0x771fe1ab1f30>"
      ]
     },
     "execution_count": 12,
     "metadata": {},
     "output_type": "execute_result"
    },
    {
     "data": {
      "text/plain": [
       "<Figure size 640x480 with 1 Axes>"
      ],
      "image/png": "[encoded data removed]"
     },
     "metadata": {},
     "output_type": "display_data",
     "jetTransient": {
      "display_id": null
     }
    }
   ],
   "execution_count": 12
  },
  {
   "metadata": {
    "ExecuteTime": {
     "end_time": "2025-10-07T07:12:00.886359Z",
     "start_time": "2025-10-07T07:12:00.880947Z"
    }
   },
   "cell_type": "code",
   "source": "first_image.squeeze().shape",
   "id": "1b6f99e4b8a567e5",
   "outputs": [
    {
     "data": {
      "text/plain": [
       "torch.Size([28, 28])"
      ]
     },
     "execution_count": 13,
     "metadata": {},
     "output_type": "execute_result"
    }
   ],
   "execution_count": 13
  },
  {
   "metadata": {
    "ExecuteTime": {
     "end_time": "2025-10-07T07:12:00.938245Z",
     "start_time": "2025-10-07T07:12:00.935428Z"
    }
   },
   "cell_type": "code",
   "source": [
    "# t = (2, 3)\n",
    "# t[0], t[1]\n",
    "# f, s = t\n",
    "# print(f, s)"
   ],
   "id": "9e91b806c52fe1af",
   "outputs": [],
   "execution_count": 14
  },
  {
   "metadata": {
    "ExecuteTime": {
     "end_time": "2025-10-07T07:12:01.006062Z",
     "start_time": "2025-10-07T07:12:00.997119Z"
    }
   },
   "cell_type": "code",
   "source": [
    "second_image, second_label = train_ds[1]\n",
    "\n",
    "second_image.shape, second_label"
   ],
   "id": "f82f8ce9150d48c9",
   "outputs": [
    {
     "data": {
      "text/plain": [
       "(torch.Size([1, 28, 28]), 0)"
      ]
     },
     "execution_count": 15,
     "metadata": {},
     "output_type": "execute_result"
    }
   ],
   "execution_count": 15
  },
  {
   "metadata": {
    "ExecuteTime": {
     "end_time": "2025-10-07T07:12:01.204675Z",
     "start_time": "2025-10-07T07:12:01.056745Z"
    }
   },
   "cell_type": "code",
   "source": "plt.imshow(second_image.squeeze(), cmap=\"gray\")",
   "id": "690df1dd8430ac4b",
   "outputs": [
    {
     "data": {
      "text/plain": [
       "<matplotlib.image.AxesImage at 0x771fe19cc2b0>"
      ]
     },
     "execution_count": 16,
     "metadata": {},
     "output_type": "execute_result"
    },
    {
     "data": {
      "text/plain": [
       "<Figure size 640x480 with 1 Axes>"
      ],
      "image/png": "[encoded data removed]"
     },
     "metadata": {},
     "output_type": "display_data",
     "jetTransient": {
      "display_id": null
     }
    }
   ],
   "execution_count": 16
  },
  {
   "metadata": {},
   "cell_type": "markdown",
   "source": [
    "## Dataloader\n",
    "\n",
    "The Dataset retrieves our dataset’s features and labels **one sample at a time**. While training a model, we typically want to pass samples in “minibatches”, reshuffle the data at every epoch to reduce model overfitting, and use Python’s multiprocessing to speed up data retrieval.\n",
    "\n",
    "DataLoader is an **iterable** that abstracts this complexity for us in an easy API."
   ],
   "id": "e5b30288ce84ebc0"
  },
  {
   "metadata": {
    "ExecuteTime": {
     "end_time": "2025-10-07T07:12:01.322838Z",
     "start_time": "2025-10-07T07:12:01.220375Z"
    }
   },
   "cell_type": "code",
   "source": [
    "batch_size = 64\n",
    "\n",
    "# Create data loaders.\n",
    "train_dl = DataLoader(train_ds, batch_size=batch_size, shuffle=True, num_workers=4)\n",
    "val_dl = DataLoader(val_ds, batch_size=batch_size, num_workers=4)\n",
    "\n",
    "for X, y in val_dl:\n",
    "    print(f\"Shape of X [N, C, H, W]: {X.shape}\") # N = batch size\n",
    "    print(f\"Shape of y: {y.shape} {y.dtype}\")\n",
    "    break"
   ],
   "id": "6bf6ffbed59a84fd",
   "outputs": [
    {
     "name": "stdout",
     "output_type": "stream",
     "text": [
      "Shape of X [N, C, H, W]: torch.Size([64, 1, 28, 28])\n",
      "Shape of y: torch.Size([64]) torch.int64\n"
     ]
    }
   ],
   "execution_count": 17
  },
  {
   "metadata": {
    "ExecuteTime": {
     "end_time": "2025-10-07T07:12:01.354498Z",
     "start_time": "2025-10-07T07:12:01.350471Z"
    }
   },
   "cell_type": "code",
   "source": [
    "device = torch.accelerator.current_accelerator().type if torch.accelerator.is_available() else \"cpu\"\n",
    "print(f\"Using {device} device\")"
   ],
   "id": "dbb1f099db266bec",
   "outputs": [
    {
     "name": "stdout",
     "output_type": "stream",
     "text": [
      "Using cuda device\n"
     ]
    }
   ],
   "execution_count": 18
  },
  {
   "metadata": {},
   "cell_type": "markdown",
   "source": [
    "## First neural network model (Vanilla or MLP)\n",
    "\n",
    " <figure>\n",
    "  <img src=\"img/vanilla.jpeg\" alt=\"ml types\" width=\"50%\">\n",
    "  <figcaption>Vanilla or MLP</figcaption>\n",
    "</figure>"
   ],
   "id": "5a264a1171bd3a54"
  },
  {
   "metadata": {
    "ExecuteTime": {
     "end_time": "2025-10-07T07:19:41.881362Z",
     "start_time": "2025-10-07T07:19:41.875058Z"
    }
   },
   "cell_type": "code",
   "source": "# nn.Flatten()(train_ds[0][0]).shape",
   "id": "ca516ddad064a8fd",
   "outputs": [
    {
     "data": {
      "text/plain": [
       "torch.Size([1, 784])"
      ]
     },
     "execution_count": 29,
     "metadata": {},
     "output_type": "execute_result"
    }
   ],
   "execution_count": 29
  },
  {
   "metadata": {
    "ExecuteTime": {
     "end_time": "2025-10-07T07:12:01.409368Z",
     "start_time": "2025-10-07T07:12:01.403496Z"
    }
   },
   "cell_type": "code",
   "source": [
    "# Define model\n",
    "class NeuralNetwork(nn.Module):\n",
    "    def __init__(self):\n",
    "        super().__init__()\n",
    "        self.flatten = nn.Flatten() # for images, we are losing spatial information!!!\n",
    "        self.linear_relu_stack = nn.Sequential(\n",
    "            nn.Linear(28*28, 512),\n",
    "            nn.ReLU(),\n",
    "            nn.Linear(512, 512),\n",
    "            nn.ReLU(),\n",
    "            nn.Linear(512, 10)\n",
    "        )\n",
    "\n",
    "    def forward(self, x):\n",
    "        x = self.flatten(x)\n",
    "        logits = self.linear_relu_stack(x)\n",
    "        return logits\n",
    "\n"
   ],
   "id": "4b6e4fde69ecc58e",
   "outputs": [],
   "execution_count": 19
  },
  {
   "metadata": {
    "ExecuteTime": {
     "end_time": "2025-10-07T07:12:01.471676Z",
     "start_time": "2025-10-07T07:12:01.459011Z"
    }
   },
   "cell_type": "code",
   "source": [
    "model = NeuralNetwork()# .to(device)\n",
    "print(model)"
   ],
   "id": "3171c47bda379c64",
   "outputs": [
    {
     "name": "stdout",
     "output_type": "stream",
     "text": [
      "NeuralNetwork(\n",
      "  (flatten): Flatten(start_dim=1, end_dim=-1)\n",
      "  (linear_relu_stack): Sequential(\n",
      "    (0): Linear(in_features=784, out_features=512, bias=True)\n",
      "    (1): ReLU()\n",
      "    (2): Linear(in_features=512, out_features=512, bias=True)\n",
      "    (3): ReLU()\n",
      "    (4): Linear(in_features=512, out_features=10, bias=True)\n",
      "  )\n",
      ")\n"
     ]
    }
   ],
   "execution_count": 20
  },
  {
   "metadata": {
    "ExecuteTime": {
     "end_time": "2025-10-07T07:50:06.065243Z",
     "start_time": "2025-10-07T07:50:06.060367Z"
    }
   },
   "cell_type": "code",
   "source": [
    "total_params = sum(p.numel() for p in model.parameters())\n",
    "\n",
    "total_params"
   ],
   "id": "ef3a86f6585ed943",
   "outputs": [
    {
     "data": {
      "text/plain": [
       "669706"
      ]
     },
     "execution_count": 32,
     "metadata": {},
     "output_type": "execute_result"
    }
   ],
   "execution_count": 32
  },
  {
   "metadata": {
    "ExecuteTime": {
     "end_time": "2025-10-07T07:55:04.658461Z",
     "start_time": "2025-10-07T07:55:04.651772Z"
    }
   },
   "cell_type": "code",
   "source": "(784 * 512) + 512 + (512 * 512) + 512 + (512 * 10) + 10",
   "id": "7839f0c4061c301e",
   "outputs": [
    {
     "data": {
      "text/plain": [
       "669706"
      ]
     },
     "execution_count": 37,
     "metadata": {},
     "output_type": "execute_result"
    }
   ],
   "execution_count": 37
  },
  {
   "metadata": {
    "ExecuteTime": {
     "end_time": "2025-10-07T07:51:20.201504Z",
     "start_time": "2025-10-07T07:51:20.184315Z"
    }
   },
   "cell_type": "code",
   "outputs": [
    {
     "name": "stdout",
     "output_type": "stream",
     "text": [
      "+----------------------------+------------+\n",
      "|          Modules           | Parameters |\n",
      "+----------------------------+------------+\n",
      "| linear_relu_stack.0.weight |   401408   |\n",
      "|  linear_relu_stack.0.bias  |    512     |\n",
      "| linear_relu_stack.2.weight |   262144   |\n",
      "|  linear_relu_stack.2.bias  |    512     |\n",
      "| linear_relu_stack.4.weight |    5120    |\n",
      "|  linear_relu_stack.4.bias  |     10     |\n",
      "+----------------------------+------------+\n",
      "Total Trainable Params: 669706\n"
     ]
    },
    {
     "data": {
      "text/plain": [
       "669706"
      ]
     },
     "execution_count": 33,
     "metadata": {},
     "output_type": "execute_result"
    }
   ],
   "execution_count": 33,
   "source": [
    "# from prettytable import PrettyTable\n",
    "#\n",
    "# def count_parameters(model):\n",
    "#     table = PrettyTable([\"Modules\", \"Parameters\"])\n",
    "#     total_params = 0\n",
    "#     for name, parameter in model.named_parameters():\n",
    "#         if not parameter.requires_grad:\n",
    "#             continue\n",
    "#         params = parameter.numel()\n",
    "#         table.add_row([name, params])\n",
    "#         total_params += params\n",
    "#     print(table)\n",
    "#     print(f\"Total Trainable Params: {total_params}\")\n",
    "#     return total_params\n",
    "#\n",
    "# count_parameters(model)"
   ],
   "id": "9fcefe766f87cbfa"
  },
  {
   "metadata": {
    "ExecuteTime": {
     "end_time": "2025-10-07T07:12:01.524509Z",
     "start_time": "2025-10-07T07:12:01.517208Z"
    }
   },
   "cell_type": "code",
   "source": "# print(model(train_ds[0][0]))",
   "id": "1dc1d6c6b8591197",
   "outputs": [
    {
     "name": "stdout",
     "output_type": "stream",
     "text": [
      "tensor([[ 0.0890,  0.0694,  0.0408,  0.0471, -0.0078,  0.0302,  0.0538,  0.0349,\n",
      "         -0.0238, -0.0543]], grad_fn=<AddmmBackward0>)\n"
     ]
    }
   ],
   "execution_count": 21
  },
  {
   "metadata": {},
   "cell_type": "markdown",
   "source": "### Training",
   "id": "b9c15164cf068976"
  },
  {
   "metadata": {},
   "cell_type": "markdown",
   "source": [
    "### Process\n",
    "\n",
    "1. [x] Dataset\n",
    "2. [x] DataLoader\n",
    "3. [x] Define the model\n",
    "4. Define the loss function\n",
    "5. Define the optimizer\n",
    "6. Training the model\n",
    "7. Evaluate the model\n",
    "\n",
    "https://udlbook.github.io/udlfigures/\n",
    "\n",
    "### Weights\n",
    "\n",
    "\n",
    " <figure>\n",
    "  <img src=\"img/weights.png\" alt=\"ml types\" width=\"40%\">\n",
    "  <figcaption>Weights</figcaption>\n",
    "</figure>\n",
    "\n"
   ],
   "id": "cc1769b842279a8d"
  },
  {
   "metadata": {},
   "cell_type": "markdown",
   "source": [
    "### Loss function\n",
    "\n",
    " <figure>\n",
    "  <img src=\"img/loss.png\" alt=\"ml types\" width=\"40%\">\n",
    "  <figcaption>Loss function</figcaption>\n",
    "</figure>\n",
    "\n"
   ],
   "id": "5a7225079a9d9f5e"
  },
  {
   "metadata": {},
   "cell_type": "markdown",
   "source": [
    "### Optimizer\n",
    "\n",
    " <figure>\n",
    "  <img src=\"img/optimizer.png\" alt=\"ml types\" width=\"40%\">\n",
    "  <figcaption>Optimizer</figcaption>\n",
    "</figure>"
   ],
   "id": "cdee3edf5202ffe8"
  },
  {
   "metadata": {
    "ExecuteTime": {
     "end_time": "2025-10-07T07:12:01.577336Z",
     "start_time": "2025-10-07T07:12:01.569474Z"
    }
   },
   "cell_type": "code",
   "source": "from training_utils import train, plot_hist, evaluate",
   "id": "1032c6b74062968f",
   "outputs": [],
   "execution_count": 22
  },
  {
   "metadata": {
    "ExecuteTime": {
     "end_time": "2025-10-07T07:12:22.624427Z",
     "start_time": "2025-10-07T07:12:01.620789Z"
    }
   },
   "cell_type": "code",
   "source": [
    "# torch.manual_seed(17)\n",
    "num_epochs = 5\n",
    "hist = train(model, num_epochs, train_dl, val_dl)"
   ],
   "id": "23c56d87f0fb0036",
   "outputs": [
    {
     "name": "stdout",
     "output_type": "stream",
     "text": [
      "Epoch 1: train_acc: 0.8236 val_acc: 0.8504 train_loss: 0.4885 val_loss: 0.4138\n",
      "Epoch 2: train_acc: 0.8679 val_acc: 0.8710 train_loss: 0.3590 val_loss: 0.3595\n",
      "Epoch 3: train_acc: 0.8816 val_acc: 0.8616 train_loss: 0.3200 val_loss: 0.3674\n",
      "Epoch 4: train_acc: 0.8894 val_acc: 0.8746 train_loss: 0.2989 val_loss: 0.3482\n",
      "Epoch 5: train_acc: 0.8958 val_acc: 0.8748 train_loss: 0.2779 val_loss: 0.3535\n"
     ]
    }
   ],
   "execution_count": 23
  },
  {
   "metadata": {
    "ExecuteTime": {
     "end_time": "2025-10-07T07:12:27.948599Z",
     "start_time": "2025-10-07T07:12:27.829051Z"
    }
   },
   "cell_type": "code",
   "source": "evaluate(model, val_ds)",
   "id": "8d4083131768926a",
   "outputs": [
    {
     "name": "stdout",
     "output_type": "stream",
     "text": [
      "Test accuracy: 0.8495\n"
     ]
    }
   ],
   "execution_count": 24
  },
  {
   "metadata": {
    "ExecuteTime": {
     "end_time": "2025-10-07T07:12:28.240984Z",
     "start_time": "2025-10-07T07:12:27.979967Z"
    }
   },
   "cell_type": "code",
   "source": "plot_hist(hist)",
   "id": "69faf7faab2ea60c",
   "outputs": [
    {
     "data": {
      "text/plain": [
       "<Figure size 1200x400 with 2 Axes>"
      ],
      "image/png": "[encoded data removed]"
     },
     "metadata": {},
     "output_type": "display_data",
     "jetTransient": {
      "display_id": null
     }
    }
   ],
   "execution_count": 25
  },
  {
   "metadata": {},
   "cell_type": "markdown",
   "source": "## Saving and loading a model",
   "id": "fc9f7ad5845440cd"
  },
  {
   "metadata": {
    "ExecuteTime": {
     "end_time": "2025-10-07T07:12:28.276152Z",
     "start_time": "2025-10-07T07:12:28.251424Z"
    }
   },
   "cell_type": "code",
   "source": [
    "torch.save(model.state_dict(), \"checkpoints/model.pth\")\n",
    "print(\"Saved PyTorch Model State to model.pth\")"
   ],
   "id": "8a148f2d9f89a72c",
   "outputs": [
    {
     "name": "stdout",
     "output_type": "stream",
     "text": [
      "Saved PyTorch Model State to model.pth\n"
     ]
    }
   ],
   "execution_count": 26
  },
  {
   "metadata": {
    "ExecuteTime": {
     "end_time": "2025-10-07T07:12:28.508850Z",
     "start_time": "2025-10-07T07:12:28.370814Z"
    }
   },
   "cell_type": "code",
   "source": [
    "# model = NeuralNetwork().to(device)\n",
    "model.load_state_dict(torch.load(\"checkpoints/model.pth\", weights_only=True))\n",
    "\n",
    "evaluate(model, val_ds)"
   ],
   "id": "edc9c1561e8bb39f",
   "outputs": [
    {
     "name": "stdout",
     "output_type": "stream",
     "text": [
      "Test accuracy: 0.8495\n"
     ]
    }
   ],
   "execution_count": 27
  }
 ],
 "metadata": {
  "kernelspec": {
   "display_name": "Python 3",
   "language": "python",
   "name": "python3"
  },
  "language_info": {
   "codemirror_mode": {
    "name": "ipython",
    "version": 2
   },
   "file_extension": ".py",
   "mimetype": "text/x-python",
   "name": "python",
   "nbconvert_exporter": "python",
   "pygments_lexer": "ipython2",
   "version": "2.7.6"
  }
 },
 "nbformat": 4,
 "nbformat_minor": 5
}
